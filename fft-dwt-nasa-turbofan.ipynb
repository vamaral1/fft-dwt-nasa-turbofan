{
 "cells": [
  {
   "cell_type": "markdown",
   "metadata": {},
   "source": [
    "# Classifying signals with Fourier and Wavelet features\n",
    "\n",
    "We'll use the [NASA turbofan engine dataset](http://ti.arc.nasa.gov/c/6/) to try to classify the system health into 3 states: healthy, needs attention, critical. The dataset contains samples from 4 different simulated engine types. Each sample is a time series with measurements from 26 sensors for multiple engines of that type, each having different degrees of initial wear and manufacturing variation.\n",
    "\n",
    "At a high level, we will use the FFT and DWT to extract features from the sensors and feed that into a basic classifier. The dataset does not provide labels for the 3 states we're classifying against but we do know that the engine degrades over time. Therefore, we'll split each engine sample into 3 regions accordingly"
   ]
  },
  {
   "cell_type": "code",
   "execution_count": 1,
   "metadata": {},
   "outputs": [],
   "source": [
    "%matplotlib inline\n",
    "import matplotlib.pyplot as plt\n",
    "import matplotlib.gridspec as GridSpec\n",
    "import numpy as np\n",
    "import pandas as pd\n",
    "import pywt\n",
    "from scipy import fftpack\n",
    "from scipy import signal\n",
    "import itertools"
   ]
  },
  {
   "cell_type": "markdown",
   "metadata": {},
   "source": [
    "## Load and process the data"
   ]
  },
  {
   "cell_type": "code",
   "execution_count": 3,
   "metadata": {},
   "outputs": [],
   "source": [
    "def process_df(df):\n",
    "    df.drop([\"time\"], axis=1, inplace=True)\n",
    "    df.dropna(inplace=True, axis=1)"
   ]
  },
  {
   "cell_type": "code",
   "execution_count": 4,
   "metadata": {},
   "outputs": [],
   "source": [
    "def generate_labels(length, healthy_att_ratio, att_crit_ratio):\n",
    "    labels = [0]*length\n",
    "    healthy_att_thres = int(length*healthy_att_ratio)\n",
    "    att_crit_ratio = int(length*att_crit_ratio)\n",
    "    for i in range(healthy_att_thres, att_crit_ratio):\n",
    "        labels[i] = 1\n",
    "    for i in range(att_crit_ratio, length):\n",
    "        labels[i] = 2\n",
    "    return labels"
   ]
  },
  {
   "cell_type": "code",
   "execution_count": 5,
   "metadata": {},
   "outputs": [],
   "source": [
    "df1 = pd.read_csv(\"CMAPSSData/test_FD001.txt\", delimiter=\" \", names=[\"unit\", \"time\", \"op1\", \"op2\", \"op3\"] + \n",
    "                  [f\"sensor{i}\" for i in range(1, 26)])"
   ]
  },
  {
   "cell_type": "code",
   "execution_count": 6,
   "metadata": {},
   "outputs": [],
   "source": [
    "process_df(df1)"
   ]
  },
  {
   "cell_type": "markdown",
   "metadata": {},
   "source": [
    "## Explore and visualize"
   ]
  },
  {
   "cell_type": "code",
   "execution_count": 7,
   "metadata": {},
   "outputs": [
    {
     "data": {
      "text/html": [
       "<div>\n",
       "<style scoped>\n",
       "    .dataframe tbody tr th:only-of-type {\n",
       "        vertical-align: middle;\n",
       "    }\n",
       "\n",
       "    .dataframe tbody tr th {\n",
       "        vertical-align: top;\n",
       "    }\n",
       "\n",
       "    .dataframe thead th {\n",
       "        text-align: right;\n",
       "    }\n",
       "</style>\n",
       "<table border=\"1\" class=\"dataframe\">\n",
       "  <thead>\n",
       "    <tr style=\"text-align: right;\">\n",
       "      <th></th>\n",
       "      <th>unit</th>\n",
       "      <th>op1</th>\n",
       "      <th>op2</th>\n",
       "      <th>op3</th>\n",
       "      <th>sensor1</th>\n",
       "      <th>sensor2</th>\n",
       "      <th>sensor3</th>\n",
       "      <th>sensor4</th>\n",
       "      <th>sensor5</th>\n",
       "      <th>sensor6</th>\n",
       "      <th>...</th>\n",
       "      <th>sensor12</th>\n",
       "      <th>sensor13</th>\n",
       "      <th>sensor14</th>\n",
       "      <th>sensor15</th>\n",
       "      <th>sensor16</th>\n",
       "      <th>sensor17</th>\n",
       "      <th>sensor18</th>\n",
       "      <th>sensor19</th>\n",
       "      <th>sensor20</th>\n",
       "      <th>sensor21</th>\n",
       "    </tr>\n",
       "  </thead>\n",
       "  <tbody>\n",
       "    <tr>\n",
       "      <th>0</th>\n",
       "      <td>1</td>\n",
       "      <td>0.0023</td>\n",
       "      <td>0.0003</td>\n",
       "      <td>100.0</td>\n",
       "      <td>518.67</td>\n",
       "      <td>643.02</td>\n",
       "      <td>1585.29</td>\n",
       "      <td>1398.21</td>\n",
       "      <td>14.62</td>\n",
       "      <td>21.61</td>\n",
       "      <td>...</td>\n",
       "      <td>521.72</td>\n",
       "      <td>2388.03</td>\n",
       "      <td>8125.55</td>\n",
       "      <td>8.4052</td>\n",
       "      <td>0.03</td>\n",
       "      <td>392</td>\n",
       "      <td>2388</td>\n",
       "      <td>100.0</td>\n",
       "      <td>38.86</td>\n",
       "      <td>23.3735</td>\n",
       "    </tr>\n",
       "    <tr>\n",
       "      <th>1</th>\n",
       "      <td>1</td>\n",
       "      <td>-0.0027</td>\n",
       "      <td>-0.0003</td>\n",
       "      <td>100.0</td>\n",
       "      <td>518.67</td>\n",
       "      <td>641.71</td>\n",
       "      <td>1588.45</td>\n",
       "      <td>1395.42</td>\n",
       "      <td>14.62</td>\n",
       "      <td>21.61</td>\n",
       "      <td>...</td>\n",
       "      <td>522.16</td>\n",
       "      <td>2388.06</td>\n",
       "      <td>8139.62</td>\n",
       "      <td>8.3803</td>\n",
       "      <td>0.03</td>\n",
       "      <td>393</td>\n",
       "      <td>2388</td>\n",
       "      <td>100.0</td>\n",
       "      <td>39.02</td>\n",
       "      <td>23.3916</td>\n",
       "    </tr>\n",
       "    <tr>\n",
       "      <th>2</th>\n",
       "      <td>1</td>\n",
       "      <td>0.0003</td>\n",
       "      <td>0.0001</td>\n",
       "      <td>100.0</td>\n",
       "      <td>518.67</td>\n",
       "      <td>642.46</td>\n",
       "      <td>1586.94</td>\n",
       "      <td>1401.34</td>\n",
       "      <td>14.62</td>\n",
       "      <td>21.61</td>\n",
       "      <td>...</td>\n",
       "      <td>521.97</td>\n",
       "      <td>2388.03</td>\n",
       "      <td>8130.10</td>\n",
       "      <td>8.4441</td>\n",
       "      <td>0.03</td>\n",
       "      <td>393</td>\n",
       "      <td>2388</td>\n",
       "      <td>100.0</td>\n",
       "      <td>39.08</td>\n",
       "      <td>23.4166</td>\n",
       "    </tr>\n",
       "    <tr>\n",
       "      <th>3</th>\n",
       "      <td>1</td>\n",
       "      <td>0.0042</td>\n",
       "      <td>0.0000</td>\n",
       "      <td>100.0</td>\n",
       "      <td>518.67</td>\n",
       "      <td>642.44</td>\n",
       "      <td>1584.12</td>\n",
       "      <td>1406.42</td>\n",
       "      <td>14.62</td>\n",
       "      <td>21.61</td>\n",
       "      <td>...</td>\n",
       "      <td>521.38</td>\n",
       "      <td>2388.05</td>\n",
       "      <td>8132.90</td>\n",
       "      <td>8.3917</td>\n",
       "      <td>0.03</td>\n",
       "      <td>391</td>\n",
       "      <td>2388</td>\n",
       "      <td>100.0</td>\n",
       "      <td>39.00</td>\n",
       "      <td>23.3737</td>\n",
       "    </tr>\n",
       "    <tr>\n",
       "      <th>4</th>\n",
       "      <td>1</td>\n",
       "      <td>0.0014</td>\n",
       "      <td>0.0000</td>\n",
       "      <td>100.0</td>\n",
       "      <td>518.67</td>\n",
       "      <td>642.51</td>\n",
       "      <td>1587.19</td>\n",
       "      <td>1401.92</td>\n",
       "      <td>14.62</td>\n",
       "      <td>21.61</td>\n",
       "      <td>...</td>\n",
       "      <td>522.15</td>\n",
       "      <td>2388.03</td>\n",
       "      <td>8129.54</td>\n",
       "      <td>8.4031</td>\n",
       "      <td>0.03</td>\n",
       "      <td>390</td>\n",
       "      <td>2388</td>\n",
       "      <td>100.0</td>\n",
       "      <td>38.99</td>\n",
       "      <td>23.4130</td>\n",
       "    </tr>\n",
       "  </tbody>\n",
       "</table>\n",
       "<p>5 rows × 25 columns</p>\n",
       "</div>"
      ],
      "text/plain": [
       "   unit     op1     op2    op3  sensor1  sensor2  sensor3  sensor4  sensor5  \\\n",
       "0     1  0.0023  0.0003  100.0   518.67   643.02  1585.29  1398.21    14.62   \n",
       "1     1 -0.0027 -0.0003  100.0   518.67   641.71  1588.45  1395.42    14.62   \n",
       "2     1  0.0003  0.0001  100.0   518.67   642.46  1586.94  1401.34    14.62   \n",
       "3     1  0.0042  0.0000  100.0   518.67   642.44  1584.12  1406.42    14.62   \n",
       "4     1  0.0014  0.0000  100.0   518.67   642.51  1587.19  1401.92    14.62   \n",
       "\n",
       "   sensor6    ...     sensor12  sensor13  sensor14  sensor15  sensor16  \\\n",
       "0    21.61    ...       521.72   2388.03   8125.55    8.4052      0.03   \n",
       "1    21.61    ...       522.16   2388.06   8139.62    8.3803      0.03   \n",
       "2    21.61    ...       521.97   2388.03   8130.10    8.4441      0.03   \n",
       "3    21.61    ...       521.38   2388.05   8132.90    8.3917      0.03   \n",
       "4    21.61    ...       522.15   2388.03   8129.54    8.4031      0.03   \n",
       "\n",
       "   sensor17  sensor18  sensor19  sensor20  sensor21  \n",
       "0       392      2388     100.0     38.86   23.3735  \n",
       "1       393      2388     100.0     39.02   23.3916  \n",
       "2       393      2388     100.0     39.08   23.4166  \n",
       "3       391      2388     100.0     39.00   23.3737  \n",
       "4       390      2388     100.0     38.99   23.4130  \n",
       "\n",
       "[5 rows x 25 columns]"
      ]
     },
     "execution_count": 7,
     "metadata": {},
     "output_type": "execute_result"
    }
   ],
   "source": [
    "df1.head()"
   ]
  },
  {
   "cell_type": "code",
   "execution_count": 8,
   "metadata": {},
   "outputs": [
    {
     "data": {
      "image/png": "[encoded data removed]",
      "text/plain": [
       "<Figure size 432x288 with 1 Axes>"
      ]
     },
     "metadata": {
      "needs_background": "light"
     },
     "output_type": "display_data"
    }
   ],
   "source": [
    "df1.groupby(\"unit\").size().plot(kind=\"hist\")\n",
    "plt.title(\"Number of samples per engine\")\n",
    "plt.show()"
   ]
  },
  {
   "cell_type": "markdown",
   "metadata": {},
   "source": [
    "Let's visualize some sensors for an engine"
   ]
  },
  {
   "cell_type": "code",
   "execution_count": 9,
   "metadata": {},
   "outputs": [],
   "source": [
    "engine_smpl = df1.loc[df1[\"unit\"] == 56, [\"sensor4\", \"sensor15\", \"sensor20\"]]"
   ]
  },
  {
   "cell_type": "code",
   "execution_count": 10,
   "metadata": {},
   "outputs": [
    {
     "data": {
      "image/png": "[encoded data removed]",
      "text/plain": [
       "<Figure size 1080x360 with 3 Axes>"
      ]
     },
     "metadata": {
      "needs_background": "light"
     },
     "output_type": "display_data"
    }
   ],
   "source": [
    "fig = plt.figure(figsize=(15, 5))\n",
    "grid = plt.GridSpec(3, 1, hspace=0.5)\n",
    "n = len(engine_smpl)\n",
    "\n",
    "sensor_a = fig.add_subplot(grid[0, 0])\n",
    "sensor_b = fig.add_subplot(grid[1, 0])\n",
    "sensor_c = fig.add_subplot(grid[2, 0])\n",
    "\n",
    "sensor_a.plot(range(n), engine_smpl[\"sensor4\"])\n",
    "sensor_b.plot(range(n), engine_smpl[\"sensor15\"])\n",
    "sensor_c.plot(range(n), engine_smpl[\"sensor20\"])\n",
    "plt.show()"
   ]
  },
  {
   "cell_type": "markdown",
   "metadata": {},
   "source": [
    "## Split data into trajectories"
   ]
  },
  {
   "cell_type": "markdown",
   "metadata": {},
   "source": [
    "Now we'll split the data into 3 parts according to the labeling pattern we decide for each engine so we'll have 300 trajectories. We'll smooth the sensor columns with a moving average window of size 2 in order to remove some noise"
   ]
  },
  {
   "cell_type": "code",
   "execution_count": 11,
   "metadata": {},
   "outputs": [],
   "source": [
    "sensor_cols = [f\"sensor{i}\" for i in range(1, 22)]"
   ]
  },
  {
   "cell_type": "code",
   "execution_count": 12,
   "metadata": {},
   "outputs": [],
   "source": [
    "trajectories = []\n",
    "for unit in range(1, 101):\n",
    "    df1_engine = df1[df1[\"unit\"] == unit]\n",
    "    sensors_smoothed = df1_engine[sensor_cols].rolling(window=2).mean().iloc[1:]\n",
    "    df1_engine = df1_engine.iloc[1:]\n",
    "    df1_engine[sensor_cols] = sensors_smoothed\n",
    "    # making large assumption here about the labels - \n",
    "    # healthy occurs the first 40% of the data, attetion for the next 35%, and critical for the last 25%\n",
    "    df1_engine[\"label\"] = generate_labels(len(df1_engine), 0.4, 0.75)\n",
    "    for label in range(0, 3):\n",
    "        df1_engine_label = df1_engine[df1_engine[\"label\"] == label]\n",
    "        trajectories.append(df1_engine_label)"
   ]
  },
  {
   "cell_type": "code",
   "execution_count": 13,
   "metadata": {},
   "outputs": [
    {
     "data": {
      "text/plain": [
       "300"
      ]
     },
     "execution_count": 13,
     "metadata": {},
     "output_type": "execute_result"
    }
   ],
   "source": [
    "len(trajectories)"
   ]
  },
  {
   "cell_type": "markdown",
   "metadata": {},
   "source": [
    "Let's take one trajectory to analyze"
   ]
  },
  {
   "cell_type": "code",
   "execution_count": 14,
   "metadata": {},
   "outputs": [],
   "source": [
    "traj = trajectories[55]"
   ]
  },
  {
   "cell_type": "code",
   "execution_count": 15,
   "metadata": {},
   "outputs": [
    {
     "data": {
      "text/html": [
       "<div>\n",
       "<style scoped>\n",
       "    .dataframe tbody tr th:only-of-type {\n",
       "        vertical-align: middle;\n",
       "    }\n",
       "\n",
       "    .dataframe tbody tr th {\n",
       "        vertical-align: top;\n",
       "    }\n",
       "\n",
       "    .dataframe thead th {\n",
       "        text-align: right;\n",
       "    }\n",
       "</style>\n",
       "<table border=\"1\" class=\"dataframe\">\n",
       "  <thead>\n",
       "    <tr style=\"text-align: right;\">\n",
       "      <th></th>\n",
       "      <th>op1</th>\n",
       "      <th>op2</th>\n",
       "      <th>op3</th>\n",
       "      <th>sensor1</th>\n",
       "      <th>sensor2</th>\n",
       "      <th>sensor3</th>\n",
       "      <th>sensor4</th>\n",
       "      <th>sensor5</th>\n",
       "      <th>sensor6</th>\n",
       "      <th>sensor7</th>\n",
       "      <th>...</th>\n",
       "      <th>sensor12</th>\n",
       "      <th>sensor13</th>\n",
       "      <th>sensor14</th>\n",
       "      <th>sensor15</th>\n",
       "      <th>sensor16</th>\n",
       "      <th>sensor17</th>\n",
       "      <th>sensor18</th>\n",
       "      <th>sensor19</th>\n",
       "      <th>sensor20</th>\n",
       "      <th>sensor21</th>\n",
       "    </tr>\n",
       "  </thead>\n",
       "  <tbody>\n",
       "    <tr>\n",
       "      <th>mean</th>\n",
       "      <td>0.000021</td>\n",
       "      <td>0.000017</td>\n",
       "      <td>100.0</td>\n",
       "      <td>5.186700e+02</td>\n",
       "      <td>642.297340</td>\n",
       "      <td>1585.689574</td>\n",
       "      <td>1400.051064</td>\n",
       "      <td>1.462000e+01</td>\n",
       "      <td>21.609362</td>\n",
       "      <td>554.175851</td>\n",
       "      <td>...</td>\n",
       "      <td>522.139149</td>\n",
       "      <td>2388.044362</td>\n",
       "      <td>8138.508404</td>\n",
       "      <td>8.409194</td>\n",
       "      <td>3.000000e-02</td>\n",
       "      <td>391.638298</td>\n",
       "      <td>2388.0</td>\n",
       "      <td>100.0</td>\n",
       "      <td>38.961277</td>\n",
       "      <td>23.379046</td>\n",
       "    </tr>\n",
       "    <tr>\n",
       "      <th>std</th>\n",
       "      <td>0.002471</td>\n",
       "      <td>0.000280</td>\n",
       "      <td>0.0</td>\n",
       "      <td>4.596637e-13</td>\n",
       "      <td>0.213506</td>\n",
       "      <td>2.664143</td>\n",
       "      <td>2.645047</td>\n",
       "      <td>1.795561e-15</td>\n",
       "      <td>0.001687</td>\n",
       "      <td>0.247517</td>\n",
       "      <td>...</td>\n",
       "      <td>0.260729</td>\n",
       "      <td>0.026347</td>\n",
       "      <td>2.470282</td>\n",
       "      <td>0.013470</td>\n",
       "      <td>2.454869e-17</td>\n",
       "      <td>0.528556</td>\n",
       "      <td>0.0</td>\n",
       "      <td>0.0</td>\n",
       "      <td>0.075422</td>\n",
       "      <td>0.043673</td>\n",
       "    </tr>\n",
       "    <tr>\n",
       "      <th>min</th>\n",
       "      <td>-0.006700</td>\n",
       "      <td>-0.000400</td>\n",
       "      <td>100.0</td>\n",
       "      <td>5.186700e+02</td>\n",
       "      <td>641.865000</td>\n",
       "      <td>1578.935000</td>\n",
       "      <td>1395.270000</td>\n",
       "      <td>1.462000e+01</td>\n",
       "      <td>21.605000</td>\n",
       "      <td>553.525000</td>\n",
       "      <td>...</td>\n",
       "      <td>521.560000</td>\n",
       "      <td>2387.990000</td>\n",
       "      <td>8133.040000</td>\n",
       "      <td>8.382400</td>\n",
       "      <td>3.000000e-02</td>\n",
       "      <td>390.500000</td>\n",
       "      <td>2388.0</td>\n",
       "      <td>100.0</td>\n",
       "      <td>38.780000</td>\n",
       "      <td>23.250950</td>\n",
       "    </tr>\n",
       "    <tr>\n",
       "      <th>25%</th>\n",
       "      <td>-0.001800</td>\n",
       "      <td>-0.000200</td>\n",
       "      <td>100.0</td>\n",
       "      <td>5.186700e+02</td>\n",
       "      <td>642.145000</td>\n",
       "      <td>1583.930000</td>\n",
       "      <td>1398.287500</td>\n",
       "      <td>1.462000e+01</td>\n",
       "      <td>21.610000</td>\n",
       "      <td>554.022500</td>\n",
       "      <td>...</td>\n",
       "      <td>521.987500</td>\n",
       "      <td>2388.025000</td>\n",
       "      <td>8137.185000</td>\n",
       "      <td>8.398325</td>\n",
       "      <td>3.000000e-02</td>\n",
       "      <td>391.500000</td>\n",
       "      <td>2388.0</td>\n",
       "      <td>100.0</td>\n",
       "      <td>38.920000</td>\n",
       "      <td>23.348375</td>\n",
       "    </tr>\n",
       "    <tr>\n",
       "      <th>50%</th>\n",
       "      <td>0.000300</td>\n",
       "      <td>0.000000</td>\n",
       "      <td>100.0</td>\n",
       "      <td>5.186700e+02</td>\n",
       "      <td>642.295000</td>\n",
       "      <td>1586.440000</td>\n",
       "      <td>1400.240000</td>\n",
       "      <td>1.462000e+01</td>\n",
       "      <td>21.610000</td>\n",
       "      <td>554.195000</td>\n",
       "      <td>...</td>\n",
       "      <td>522.175000</td>\n",
       "      <td>2388.050000</td>\n",
       "      <td>8138.665000</td>\n",
       "      <td>8.409000</td>\n",
       "      <td>3.000000e-02</td>\n",
       "      <td>391.500000</td>\n",
       "      <td>2388.0</td>\n",
       "      <td>100.0</td>\n",
       "      <td>38.960000</td>\n",
       "      <td>23.375500</td>\n",
       "    </tr>\n",
       "    <tr>\n",
       "      <th>75%</th>\n",
       "      <td>0.001650</td>\n",
       "      <td>0.000200</td>\n",
       "      <td>100.0</td>\n",
       "      <td>5.186700e+02</td>\n",
       "      <td>642.410000</td>\n",
       "      <td>1587.910000</td>\n",
       "      <td>1401.440000</td>\n",
       "      <td>1.462000e+01</td>\n",
       "      <td>21.610000</td>\n",
       "      <td>554.372500</td>\n",
       "      <td>...</td>\n",
       "      <td>522.332500</td>\n",
       "      <td>2388.067500</td>\n",
       "      <td>8140.235000</td>\n",
       "      <td>8.418575</td>\n",
       "      <td>3.000000e-02</td>\n",
       "      <td>392.000000</td>\n",
       "      <td>2388.0</td>\n",
       "      <td>100.0</td>\n",
       "      <td>39.000000</td>\n",
       "      <td>23.407125</td>\n",
       "    </tr>\n",
       "    <tr>\n",
       "      <th>max</th>\n",
       "      <td>0.005800</td>\n",
       "      <td>0.000600</td>\n",
       "      <td>100.0</td>\n",
       "      <td>5.186700e+02</td>\n",
       "      <td>642.755000</td>\n",
       "      <td>1591.100000</td>\n",
       "      <td>1407.380000</td>\n",
       "      <td>1.462000e+01</td>\n",
       "      <td>21.610000</td>\n",
       "      <td>554.890000</td>\n",
       "      <td>...</td>\n",
       "      <td>522.700000</td>\n",
       "      <td>2388.100000</td>\n",
       "      <td>8145.105000</td>\n",
       "      <td>8.436550</td>\n",
       "      <td>3.000000e-02</td>\n",
       "      <td>392.500000</td>\n",
       "      <td>2388.0</td>\n",
       "      <td>100.0</td>\n",
       "      <td>39.140000</td>\n",
       "      <td>23.488550</td>\n",
       "    </tr>\n",
       "  </tbody>\n",
       "</table>\n",
       "<p>7 rows × 24 columns</p>\n",
       "</div>"
      ],
      "text/plain": [
       "           op1       op2    op3       sensor1     sensor2      sensor3  \\\n",
       "mean  0.000021  0.000017  100.0  5.186700e+02  642.297340  1585.689574   \n",
       "std   0.002471  0.000280    0.0  4.596637e-13    0.213506     2.664143   \n",
       "min  -0.006700 -0.000400  100.0  5.186700e+02  641.865000  1578.935000   \n",
       "25%  -0.001800 -0.000200  100.0  5.186700e+02  642.145000  1583.930000   \n",
       "50%   0.000300  0.000000  100.0  5.186700e+02  642.295000  1586.440000   \n",
       "75%   0.001650  0.000200  100.0  5.186700e+02  642.410000  1587.910000   \n",
       "max   0.005800  0.000600  100.0  5.186700e+02  642.755000  1591.100000   \n",
       "\n",
       "          sensor4       sensor5    sensor6     sensor7    ...        sensor12  \\\n",
       "mean  1400.051064  1.462000e+01  21.609362  554.175851    ...      522.139149   \n",
       "std      2.645047  1.795561e-15   0.001687    0.247517    ...        0.260729   \n",
       "min   1395.270000  1.462000e+01  21.605000  553.525000    ...      521.560000   \n",
       "25%   1398.287500  1.462000e+01  21.610000  554.022500    ...      521.987500   \n",
       "50%   1400.240000  1.462000e+01  21.610000  554.195000    ...      522.175000   \n",
       "75%   1401.440000  1.462000e+01  21.610000  554.372500    ...      522.332500   \n",
       "max   1407.380000  1.462000e+01  21.610000  554.890000    ...      522.700000   \n",
       "\n",
       "         sensor13     sensor14  sensor15      sensor16    sensor17  sensor18  \\\n",
       "mean  2388.044362  8138.508404  8.409194  3.000000e-02  391.638298    2388.0   \n",
       "std      0.026347     2.470282  0.013470  2.454869e-17    0.528556       0.0   \n",
       "min   2387.990000  8133.040000  8.382400  3.000000e-02  390.500000    2388.0   \n",
       "25%   2388.025000  8137.185000  8.398325  3.000000e-02  391.500000    2388.0   \n",
       "50%   2388.050000  8138.665000  8.409000  3.000000e-02  391.500000    2388.0   \n",
       "75%   2388.067500  8140.235000  8.418575  3.000000e-02  392.000000    2388.0   \n",
       "max   2388.100000  8145.105000  8.436550  3.000000e-02  392.500000    2388.0   \n",
       "\n",
       "      sensor19   sensor20   sensor21  \n",
       "mean     100.0  38.961277  23.379046  \n",
       "std        0.0   0.075422   0.043673  \n",
       "min      100.0  38.780000  23.250950  \n",
       "25%      100.0  38.920000  23.348375  \n",
       "50%      100.0  38.960000  23.375500  \n",
       "75%      100.0  39.000000  23.407125  \n",
       "max      100.0  39.140000  23.488550  \n",
       "\n",
       "[7 rows x 24 columns]"
      ]
     },
     "execution_count": 15,
     "metadata": {},
     "output_type": "execute_result"
    }
   ],
   "source": [
    "# We'll summarize the time domain using descriptive statistics as features\n",
    "ts_feats = traj.drop([\"unit\", \"label\"], axis=1).describe().iloc[1:]\n",
    "ts_feats"
   ]
  },
  {
   "cell_type": "code",
   "execution_count": 16,
   "metadata": {},
   "outputs": [],
   "source": [
    "ts_feats = ts_feats.values.flatten()"
   ]
  },
  {
   "cell_type": "code",
   "execution_count": 17,
   "metadata": {},
   "outputs": [
    {
     "data": {
      "text/plain": [
       "168"
      ]
     },
     "execution_count": 17,
     "metadata": {},
     "output_type": "execute_result"
    }
   ],
   "source": [
    "len(ts_feats)"
   ]
  },
  {
   "cell_type": "markdown",
   "metadata": {},
   "source": [
    "## Calculate FFT and DWT"
   ]
  },
  {
   "cell_type": "markdown",
   "metadata": {},
   "source": [
    "We'll apply the fft to each of the sensors"
   ]
  },
  {
   "cell_type": "code",
   "execution_count": 18,
   "metadata": {},
   "outputs": [],
   "source": [
    "traj_sensors = traj[sensor_cols]"
   ]
  },
  {
   "cell_type": "code",
   "execution_count": 19,
   "metadata": {},
   "outputs": [],
   "source": [
    "fft_traj = fftpack.fft(traj_sensors, axis=0)"
   ]
  },
  {
   "cell_type": "code",
   "execution_count": 20,
   "metadata": {},
   "outputs": [
    {
     "data": {
      "text/plain": [
       "(47, 21)"
      ]
     },
     "execution_count": 20,
     "metadata": {},
     "output_type": "execute_result"
    }
   ],
   "source": [
    "fft_traj.shape"
   ]
  },
  {
   "cell_type": "markdown",
   "metadata": {},
   "source": [
    "Let's analyze one of those sensors more closely"
   ]
  },
  {
   "cell_type": "code",
   "execution_count": 21,
   "metadata": {},
   "outputs": [
    {
     "data": {
      "image/png": "[encoded data removed]",
      "text/plain": [
       "<Figure size 864x360 with 2 Axes>"
      ]
     },
     "metadata": {
      "needs_background": "light"
     },
     "output_type": "display_data"
    }
   ],
   "source": [
    "fig = plt.figure(figsize=(12, 5))\n",
    "grid = plt.GridSpec(2, 1, hspace=0.5)\n",
    "n = len(traj_sensors)\n",
    "\n",
    "time_domain = fig.add_subplot(grid[0, 0])\n",
    "freq_domain = fig.add_subplot(grid[1, 0])\n",
    "\n",
    "time_domain.plot(range(n), traj_sensors.iloc[:, 10])\n",
    "time_domain.set_title(\"time domain\")\n",
    "freq_domain.plot(fftpack.fftshift(fftpack.fftfreq(n)), np.log(np.abs(fftpack.fftshift(fft_traj[:, 10]))))\n",
    "freq_domain.set_title(\"freq domain\")\n",
    "plt.show()"
   ]
  },
  {
   "cell_type": "markdown",
   "metadata": {},
   "source": [
    "We'll find peaks in the fft to use as features. Peaks in the fft correspond to frequencies that are dominant over the signal. We will also calculate the power spectral density (PSD) of those peaks to use as additional features. The power spectral density is simply the magnitude squared of the fourier transform. We'll take the 5 peaks with highest magnitude so that we have a fixed length feature vector for all trajectories. Each peak will have 3 features for it - the location of the peak, the value, and the energy (value squared) leaving us with 15 fourier features for each sensor for each trajectory."
   ]
  },
  {
   "cell_type": "code",
   "execution_count": 22,
   "metadata": {},
   "outputs": [],
   "source": [
    "_NUM_FFT_FEATS = 15"
   ]
  },
  {
   "cell_type": "code",
   "execution_count": 23,
   "metadata": {},
   "outputs": [],
   "source": [
    "def get_fft_cutoff(n):\n",
    "    # since the fft is conjugate symmetric, we'll just take the first half\n",
    "    cuttoff = n\n",
    "    if n % 2 == 0:\n",
    "        cutoff = n//2 - 1\n",
    "    else:\n",
    "        cutoff = (n - 1)//2\n",
    "    return cutoff + 1"
   ]
  },
  {
   "cell_type": "code",
   "execution_count": 24,
   "metadata": {},
   "outputs": [],
   "source": [
    "pos, vals = signal.find_peaks(np.abs(fft_traj[:, 10][:get_fft_cutoff(len(fft_traj))]), height=0)"
   ]
  },
  {
   "cell_type": "code",
   "execution_count": 25,
   "metadata": {},
   "outputs": [],
   "source": [
    "sorted_peaks = sorted(zip(pos, vals[\"peak_heights\"], vals[\"peak_heights\"]**2), key=lambda tup: tup[1], reverse=True)"
   ]
  },
  {
   "cell_type": "code",
   "execution_count": 26,
   "metadata": {},
   "outputs": [
    {
     "data": {
      "text/plain": [
       "[(8, 1.430427252685029, 2.04612212522404),\n",
       " (10, 1.0700879413129283, 1.145088202143341),\n",
       " (2, 1.0222949470281808, 1.045086958719351),\n",
       " (5, 0.7228700537207613, 0.5225411145662563),\n",
       " (12, 0.6504636874222534, 0.4231030086549549),\n",
       " (14, 0.5416640695785897, 0.29339996427243925),\n",
       " (19, 0.343000633050617, 0.11764943427312402),\n",
       " (17, 0.31403831831873674, 0.09862006537246022),\n",
       " (21, 0.21138765752602834, 0.044684741754341444)]"
      ]
     },
     "execution_count": 26,
     "metadata": {},
     "output_type": "execute_result"
    }
   ],
   "source": [
    "sorted_peaks"
   ]
  },
  {
   "cell_type": "code",
   "execution_count": 27,
   "metadata": {},
   "outputs": [],
   "source": [
    "fft_psd_peaks = list(itertools.chain(*itertools.islice(sorted_peaks, _NUM_FFT_FEATS//3)))"
   ]
  },
  {
   "cell_type": "code",
   "execution_count": 28,
   "metadata": {},
   "outputs": [],
   "source": [
    "# pad with -1 to be of length 15 (3 features for each peak) if needed\n",
    "fft_psd_peaks.extend([-1] * (_NUM_FFT_FEATS - len(fft_psd_peaks)))"
   ]
  },
  {
   "cell_type": "code",
   "execution_count": 29,
   "metadata": {},
   "outputs": [
    {
     "data": {
      "text/plain": [
       "[8,\n",
       " 1.430427252685029,\n",
       " 2.04612212522404,\n",
       " 10,\n",
       " 1.0700879413129283,\n",
       " 1.145088202143341,\n",
       " 2,\n",
       " 1.0222949470281808,\n",
       " 1.045086958719351,\n",
       " 5,\n",
       " 0.7228700537207613,\n",
       " 0.5225411145662563,\n",
       " 12,\n",
       " 0.6504636874222534,\n",
       " 0.4231030086549549]"
      ]
     },
     "execution_count": 29,
     "metadata": {},
     "output_type": "execute_result"
    }
   ],
   "source": [
    "fft_psd_peaks"
   ]
  },
  {
   "cell_type": "markdown",
   "metadata": {},
   "source": [
    "One disadvantage of the fourier transform is that it loses time information so it's not able to localize which frequencies are present at which time instance. Therefore, in addition to fourier features, we'll extract features using the wavelet transform. Wavelets are finite functions and are convolved with the signal at multiple scales. We use a db2 wavelet as recommended for feature detection by [Mathworks](https://www.mathworks.com/help/wavelet/gs/choose-a-wavelet.html) and for a similar task of [eeg signal classification](https://dl.acm.org/doi/10.1109/JVA.2006.17). The `pywt.dwt` function returns a tuple of arrays. The first array corresponds to the approximations and the second corresponds to the details of the wavelet transform. The approximations are low pass representations of the signal and the details are the dwt coefficients. Filter banks can be built by repeatedly applying the dwt on the approximations using `pywt.wavedec` but we just take the first level. A good reference for wavelet transforms are these [lecture slides](http://people.ciirc.cvut.cz/~hlavac/TeachPresEn/11ImageProc/14WaveletsEn.pdf) by the Czech Technical University."
   ]
  },
  {
   "cell_type": "code",
   "execution_count": 30,
   "metadata": {},
   "outputs": [],
   "source": [
    "_NUM_DWT_FEATS = 20"
   ]
  },
  {
   "cell_type": "code",
   "execution_count": 31,
   "metadata": {},
   "outputs": [],
   "source": [
    "dwt_coeffs = pywt.dwt(traj_sensors.iloc[:, 10], wavelet=\"db2\")[1:]\n",
    "dwt_feats = np.concatenate(dwt_coeffs)[:_NUM_DWT_FEATS]"
   ]
  },
  {
   "cell_type": "code",
   "execution_count": 32,
   "metadata": {},
   "outputs": [],
   "source": [
    "if len(dwt_feats) < _NUM_DWT_FEATS:\n",
    "    dwt_feats = np.pad(dwt_feats, (0, _NUM_DWT_FEATS - len(dwt_feats)), mode=\"constant\", constant_values=-1)"
   ]
  },
  {
   "cell_type": "code",
   "execution_count": 33,
   "metadata": {},
   "outputs": [
    {
     "data": {
      "text/plain": [
       "array([-0.02143304,  0.01625665,  0.03881041, -0.01242082, -0.01652294,\n",
       "        0.00850453, -0.08736054,  0.08666704,  0.01371492, -0.07662702,\n",
       "       -0.00301541,  0.070203  , -0.03350711, -0.0235011 ,  0.08265783,\n",
       "       -0.05096495, -0.01212053,  0.0208789 , -0.09806005,  0.14307465])"
      ]
     },
     "execution_count": 33,
     "metadata": {},
     "output_type": "execute_result"
    }
   ],
   "source": [
    "dwt_feats"
   ]
  },
  {
   "cell_type": "markdown",
   "metadata": {},
   "source": [
    "Now we'll build our feature vector for all trajectories and all sensors by replicating the steps above in a loop"
   ]
  },
  {
   "cell_type": "code",
   "execution_count": 34,
   "metadata": {},
   "outputs": [],
   "source": [
    "def find_fft_feats(fft_signal):\n",
    "    pos, vals = signal.find_peaks(np.abs(fft_signal), height=0)\n",
    "    sorted_peaks = sorted(zip(pos, vals[\"peak_heights\"], vals[\"peak_heights\"]**2), key=lambda tup: tup[1], reverse=True)\n",
    "    fft_psd_peaks = list(itertools.chain(*itertools.islice(sorted_peaks, _NUM_FFT_FEATS//3)))\n",
    "    fft_psd_peaks.extend([-1] * (_NUM_FFT_FEATS - len(fft_psd_peaks)))\n",
    "    return fft_psd_peaks"
   ]
  },
  {
   "cell_type": "code",
   "execution_count": 35,
   "metadata": {},
   "outputs": [],
   "source": [
    "def find_dwt_feats(series):\n",
    "    dwt_feats = pywt.downcoef(\"d\", series, wavelet=\"db2\")[:_NUM_DWT_FEATS]\n",
    "    if len(dwt_feats) < _NUM_DWT_FEATS:\n",
    "        dwt_feats = np.pad(dwt_feats, (0, _NUM_DWT_FEATS - len(dwt_feats)), mode=\"constant\", constant_values=-1)\n",
    "    return dwt_feats"
   ]
  },
  {
   "cell_type": "code",
   "execution_count": 36,
   "metadata": {},
   "outputs": [],
   "source": [
    "feats = []\n",
    "labels = []\n",
    "for traj in trajectories:\n",
    "    ts_feats = traj.drop([\"unit\", \"label\"], axis=1).describe().iloc[1:].values.flatten()\n",
    "    labels.append(traj.iloc[0,-1])\n",
    "    traj_sensors = traj[sensor_cols]\n",
    "    fft_traj = fftpack.fft(traj_sensors, axis=0)\n",
    "    fft_cutoff = get_fft_cutoff(len(fft_traj))\n",
    "    fft_dwt_feats = []\n",
    "    for i in range(len(sensor_cols)):\n",
    "        fft_feats = find_fft_feats(fft_traj[:, i][:fft_cutoff])\n",
    "        dwt_feats = find_dwt_feats(traj_sensors.iloc[:, i])\n",
    "        fft_dwt_feats.append(np.concatenate([fft_feats, dwt_feats]))\n",
    "    feats.append(np.concatenate([ts_feats, np.concatenate(fft_dwt_feats)]))"
   ]
  },
  {
   "cell_type": "code",
   "execution_count": 37,
   "metadata": {},
   "outputs": [],
   "source": [
    "df_feats = pd.DataFrame(feats)"
   ]
  },
  {
   "cell_type": "code",
   "execution_count": 38,
   "metadata": {},
   "outputs": [
    {
     "data": {
      "text/plain": [
       "(array([], dtype=int64),)"
      ]
     },
     "execution_count": 38,
     "metadata": {},
     "output_type": "execute_result"
    }
   ],
   "source": [
    "# make sure we don't have any features that are all -1 that we can drop. -1 is the padding value we used above\n",
    "np.where((df_feats == -1).all(axis=0))"
   ]
  },
  {
   "cell_type": "code",
   "execution_count": 39,
   "metadata": {},
   "outputs": [],
   "source": [
    "all_feats = np.stack(feats)"
   ]
  },
  {
   "cell_type": "code",
   "execution_count": 40,
   "metadata": {},
   "outputs": [],
   "source": [
    "labels = np.zeros(len(trajectories), dtype=\"uint8\")\n",
    "for i, traj in enumerate(trajectories):\n",
    "    labels[i] = traj.iloc[0,-1]"
   ]
  },
  {
   "cell_type": "markdown",
   "metadata": {},
   "source": [
    "We have a relatively small but high dimensional numerical dataset so an SVM seems suitable for modeling this task. In order to assure that features with high numerical values don't overpower ones with lower values while defining a hyperplane, we scale the data to have unit variance and zero mean. We use 5-fold cross validation in order to validate our model and be more confident in its performance and make sure we're not overfitting. We track accuracy as an appropriate performance metric since our dataset is balanced and only has a few classes."
   ]
  },
  {
   "cell_type": "code",
   "execution_count": 41,
   "metadata": {},
   "outputs": [],
   "source": [
    "from sklearn.model_selection import StratifiedKFold\n",
    "from sklearn.svm import SVC\n",
    "from sklearn.preprocessing import StandardScaler"
   ]
  },
  {
   "cell_type": "code",
   "execution_count": 42,
   "metadata": {},
   "outputs": [],
   "source": [
    "skf = StratifiedKFold(n_splits=5, shuffle=True)"
   ]
  },
  {
   "cell_type": "code",
   "execution_count": 43,
   "metadata": {},
   "outputs": [
    {
     "name": "stdout",
     "output_type": "stream",
     "text": [
      "Train accuracy: 0.9208333333333333, test accuracy: 0.7833333333333333\n",
      "Train accuracy: 0.8916666666666667, test accuracy: 0.7\n",
      "Train accuracy: 0.9208333333333333, test accuracy: 0.8\n",
      "Train accuracy: 0.9083333333333333, test accuracy: 0.8\n",
      "Train accuracy: 0.9125, test accuracy: 0.8333333333333334\n"
     ]
    }
   ],
   "source": [
    "for train_index, test_index in skf.split(all_feats, labels):\n",
    "    X_train, X_test = all_feats[train_index], all_feats[test_index]\n",
    "    y_train, y_test = labels[train_index], labels[test_index]\n",
    "    scaler = StandardScaler()\n",
    "    clf = SVC(C=0.9, kernel=\"rbf\")\n",
    "    X_train_scl = scaler.fit_transform(X_train)\n",
    "    clf.fit(X_train_scl, y_train)\n",
    "    X_test_scl = scaler.transform(X_test)\n",
    "    print(f\"Train accuracy: {clf.score(X_train_scl, y_train)}, test accuracy: {clf.score(X_test_scl, y_test)}\")"
   ]
  },
  {
   "cell_type": "markdown",
   "metadata": {},
   "source": [
    "We are able to achieve ~90% accuracy on the training data and ~80% accuracy on the validation data without much hyperparameter tuning. In the real world we'd want to be more careful about choosing our decision boundary and probably give a higher penalty to the case where we don't predict the critical state when it should have been predicted if the goal is to prevent failures from occurring. The focus of this exercise was more focused on how we can extract features using the fft and dwt and build a simple sklearn classifier rather than actually tuning an SVM classifier - since there are plenty of tutorials on that. Feedback in the form of github issues or PRs is always welcome!"
   ]
  }
 ],
 "metadata": {
  "kernelspec": {
   "display_name": "Python 3",
   "language": "python",
   "name": "python3"
  },
  "language_info": {
   "codemirror_mode": {
    "name": "ipython",
    "version": 3
   },
   "file_extension": ".py",
   "mimetype": "text/x-python",
   "name": "python",
   "nbconvert_exporter": "python",
   "pygments_lexer": "ipython3",
   "version": "3.7.0"
  }
 },
 "nbformat": 4,
 "nbformat_minor": 2
}
